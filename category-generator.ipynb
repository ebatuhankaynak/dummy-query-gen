{
 "cells": [
  {
   "cell_type": "code",
   "execution_count": 65,
   "metadata": {},
   "outputs": [
    {
     "data": {
      "text/plain": [
       "147"
      ]
     },
     "execution_count": 65,
     "metadata": {},
     "output_type": "execute_result"
    }
   ],
   "source": [
    "import pandas as pd\n",
    "\n",
    "df = pd.read_csv('data/trends.csv')\n",
    "\n",
    "# select distinct category from English speaking countries\n",
    "df = df[df['location'].isin(['United Kingdom', 'Scotland', 'Australia', 'Ireland', 'New Zealand', 'Wales'])]\n",
    "df = df[['category']].drop_duplicates()\n",
    "\n",
    "# count the number of categories\n",
    "df.size"
   ]
  },
  {
   "cell_type": "code",
   "execution_count": 42,
   "metadata": {},
   "outputs": [
    {
     "data": {
      "text/plain": [
       "885620"
      ]
     },
     "execution_count": 42,
     "metadata": {},
     "output_type": "execute_result"
    }
   ],
   "source": [
    "df_wiki = pd.read_csv('data/children_cats.csv')\n",
    "\n",
    "df_wiki['category'] = df_wiki.iloc[:, 0]\n",
    "df_wiki = df_wiki[['category']].drop_duplicates()\n",
    "\n",
    "df_wiki['category'] = df_wiki['category'].str.replace('_', ' ')\n",
    "\n",
    "# shuffle\n",
    "df_wiki = df_wiki.sample(frac=1).reset_index(drop=True)\n",
    "\n",
    "# count the number of categories\n",
    "df_wiki.size\n"
   ]
  },
  {
   "cell_type": "code",
   "execution_count": 66,
   "metadata": {},
   "outputs": [
    {
     "name": "stderr",
     "output_type": "stream",
     "text": [
      "/Users/okg21/anaconda3/envs/huggingface-pytorch/lib/python3.11/site-packages/transformers/tokenization_utils_base.py:1601: FutureWarning: `clean_up_tokenization_spaces` was not set. It will be set to `True` by default. This behavior will be depracted in transformers v4.45, and will be then set to `False` by default. For more details check this issue: https://github.com/huggingface/transformers/issues/31884\n",
      "  warnings.warn(\n",
      "Processing batches: 100%|██████████| 1/1 [00:01<00:00,  1.51s/it]\n"
     ]
    }
   ],
   "source": [
    "# TODO: Too long to run, also do we need it?\n",
    "from transformers import BertTokenizer, BertModel\n",
    "import torch  \n",
    "from tqdm import tqdm  \n",
    "\n",
    "# Initialize BERT tokenizer and model\n",
    "tokenizer = BertTokenizer.from_pretrained('bert-base-uncased')\n",
    "model = BertModel.from_pretrained('bert-base-uncased')\n",
    "\n",
    "import numpy as np  # Ensure numpy is imported\n",
    "\n",
    "batch_size = 1024  # Set your desired batch size\n",
    "mean_embeddings_np = np.empty((0, 768))  # Initialize an empty array for embeddings\n",
    "\n",
    "# Process the data in batches\n",
    "for i in tqdm(range(0, len(df_wiki), batch_size), desc=\"Processing batches\"):  # Wrap the range with tqdm\n",
    "    batch_df = df_wiki.iloc[i:i + batch_size]\n",
    "\n",
    "    # Tokenize and encode the texts\n",
    "    tokens = tokenizer(batch_df['category'].tolist(), return_tensors='pt', padding=True, truncation=True, max_length=512)\n",
    "\n",
    "    # Forward pass, get hidden states\n",
    "    with torch.no_grad():\n",
    "        outputs = model(**tokens)\n",
    "\n",
    "    # Take the output embeddings from the last layer\n",
    "    last_hidden_states = outputs.last_hidden_state\n",
    "\n",
    "    # Pooling strategy: Take the mean of all token embeddings\n",
    "    mean_embeddings = torch.mean(last_hidden_states, dim=1)\n",
    "\n",
    "    # Convert the tensor to a numpy array and append to the mean_embeddings_np\n",
    "    mean_embeddings_np = np.append(mean_embeddings_np, mean_embeddings.numpy(), axis=0)\n",
    "\n",
    "# Assign the embeddings back to the DataFrame\n",
    "df_wiki['embedding'] = list(mean_embeddings_np)"
   ]
  },
  {
   "cell_type": "code",
   "execution_count": 61,
   "metadata": {},
   "outputs": [
    {
     "data": {
      "text/html": [
       "<div>\n",
       "<style scoped>\n",
       "    .dataframe tbody tr th:only-of-type {\n",
       "        vertical-align: middle;\n",
       "    }\n",
       "\n",
       "    .dataframe tbody tr th {\n",
       "        vertical-align: top;\n",
       "    }\n",
       "\n",
       "    .dataframe thead th {\n",
       "        text-align: right;\n",
       "    }\n",
       "</style>\n",
       "<table border=\"1\" class=\"dataframe\">\n",
       "  <thead>\n",
       "    <tr style=\"text-align: right;\">\n",
       "      <th></th>\n",
       "      <th>category</th>\n",
       "      <th>embedding</th>\n",
       "    </tr>\n",
       "  </thead>\n",
       "  <tbody>\n",
       "    <tr>\n",
       "      <th>155</th>\n",
       "      <td>Men</td>\n",
       "      <td>[-0.3348294496536255, 0.20340462028980255, -0....</td>\n",
       "    </tr>\n",
       "    <tr>\n",
       "      <th>160</th>\n",
       "      <td>Searches</td>\n",
       "      <td>[-0.2169940024614334, -0.3081307113170624, 0.0...</td>\n",
       "    </tr>\n",
       "    <tr>\n",
       "      <th>165</th>\n",
       "      <td>Women</td>\n",
       "      <td>[-0.23026470839977264, 0.2526428997516632, -0....</td>\n",
       "    </tr>\n",
       "    <tr>\n",
       "      <th>205</th>\n",
       "      <td>Popular Movies</td>\n",
       "      <td>[0.2829076051712036, -0.00320279598236084, -0....</td>\n",
       "    </tr>\n",
       "    <tr>\n",
       "      <th>210</th>\n",
       "      <td>Popular Queries</td>\n",
       "      <td>[0.1685190200805664, 0.1572684794664383, -0.07...</td>\n",
       "    </tr>\n",
       "    <tr>\n",
       "      <th>...</th>\n",
       "      <td>...</td>\n",
       "      <td>...</td>\n",
       "    </tr>\n",
       "    <tr>\n",
       "      <th>26640</th>\n",
       "      <td>DIY</td>\n",
       "      <td>[0.3040526211261749, -0.25561073422431946, -0....</td>\n",
       "    </tr>\n",
       "    <tr>\n",
       "      <th>26645</th>\n",
       "      <td>Fitness</td>\n",
       "      <td>[0.26824596524238586, -0.4710530638694763, -0....</td>\n",
       "    </tr>\n",
       "    <tr>\n",
       "      <th>26655</th>\n",
       "      <td>Lyrics</td>\n",
       "      <td>[-0.2225637137889862, 0.07541773468255997, -0....</td>\n",
       "    </tr>\n",
       "    <tr>\n",
       "      <th>26690</th>\n",
       "      <td>When...?</td>\n",
       "      <td>[0.2923111319541931, -0.4870285391807556, 0.02...</td>\n",
       "    </tr>\n",
       "    <tr>\n",
       "      <th>26695</th>\n",
       "      <td>Who...?</td>\n",
       "      <td>[0.41676536202430725, -0.3115532398223877, 0.0...</td>\n",
       "    </tr>\n",
       "  </tbody>\n",
       "</table>\n",
       "<p>197 rows × 2 columns</p>\n",
       "</div>"
      ],
      "text/plain": [
       "              category                                          embedding\n",
       "155                Men  [-0.3348294496536255, 0.20340462028980255, -0....\n",
       "160           Searches  [-0.2169940024614334, -0.3081307113170624, 0.0...\n",
       "165              Women  [-0.23026470839977264, 0.2526428997516632, -0....\n",
       "205     Popular Movies  [0.2829076051712036, -0.00320279598236084, -0....\n",
       "210    Popular Queries  [0.1685190200805664, 0.1572684794664383, -0.07...\n",
       "...                ...                                                ...\n",
       "26640              DIY  [0.3040526211261749, -0.25561073422431946, -0....\n",
       "26645          Fitness  [0.26824596524238586, -0.4710530638694763, -0....\n",
       "26655           Lyrics  [-0.2225637137889862, 0.07541773468255997, -0....\n",
       "26690         When...?  [0.2923111319541931, -0.4870285391807556, 0.02...\n",
       "26695          Who...?  [0.41676536202430725, -0.3115532398223877, 0.0...\n",
       "\n",
       "[197 rows x 2 columns]"
      ]
     },
     "execution_count": 61,
     "metadata": {},
     "output_type": "execute_result"
    }
   ],
   "source": [
    "df"
   ]
  },
  {
   "cell_type": "code",
   "execution_count": 22,
   "metadata": {},
   "outputs": [],
   "source": [
    "df_wiki.to_csv('data/wiki_categories.csv', index=False)"
   ]
  },
  {
   "cell_type": "code",
   "execution_count": 67,
   "metadata": {},
   "outputs": [],
   "source": [
    "df.to_csv('data/google_trends.csv', index=False)"
   ]
  }
 ],
 "metadata": {
  "kernelspec": {
   "display_name": "huggingface-pytorch",
   "language": "python",
   "name": "python3"
  },
  "language_info": {
   "codemirror_mode": {
    "name": "ipython",
    "version": 3
   },
   "file_extension": ".py",
   "mimetype": "text/x-python",
   "name": "python",
   "nbconvert_exporter": "python",
   "pygments_lexer": "ipython3",
   "version": "3.11.0"
  }
 },
 "nbformat": 4,
 "nbformat_minor": 2
}
